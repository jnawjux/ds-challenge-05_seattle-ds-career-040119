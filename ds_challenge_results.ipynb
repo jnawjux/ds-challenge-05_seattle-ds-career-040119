{
 "cells": [
  {
   "cell_type": "code",
   "execution_count": 154,
   "metadata": {},
   "outputs": [],
   "source": [
    "import pandas as pd\n",
    "import numpy as np\n",
    "import matplotlib.pyplot as plt"
   ]
  },
  {
   "cell_type": "markdown",
   "metadata": {},
   "source": [
    "Placing the csv in a pandas dataframe:"
   ]
  },
  {
   "cell_type": "code",
   "execution_count": 155,
   "metadata": {},
   "outputs": [],
   "source": [
    "arrival_df = pd.read_csv('data.csv')"
   ]
  },
  {
   "cell_type": "code",
   "execution_count": 156,
   "metadata": {},
   "outputs": [
    {
     "data": {
      "text/html": [
       "<div>\n",
       "<style scoped>\n",
       "    .dataframe tbody tr th:only-of-type {\n",
       "        vertical-align: middle;\n",
       "    }\n",
       "\n",
       "    .dataframe tbody tr th {\n",
       "        vertical-align: top;\n",
       "    }\n",
       "\n",
       "    .dataframe thead th {\n",
       "        text-align: right;\n",
       "    }\n",
       "</style>\n",
       "<table border=\"1\" class=\"dataframe\">\n",
       "  <thead>\n",
       "    <tr style=\"text-align: right;\">\n",
       "      <th></th>\n",
       "      <th>8:56 AM</th>\n",
       "      <th>9:00 AM</th>\n",
       "      <th>7:45 AM</th>\n",
       "      <th>7:45 AM.1</th>\n",
       "      <th>8:05 AM</th>\n",
       "      <th>7:45 AM.2</th>\n",
       "    </tr>\n",
       "  </thead>\n",
       "  <tbody>\n",
       "    <tr>\n",
       "      <th>0</th>\n",
       "      <td>8:40 AM</td>\n",
       "      <td>8:40 AM</td>\n",
       "      <td>8:30 AM</td>\n",
       "      <td>8:30 AM</td>\n",
       "      <td>8:45 AM</td>\n",
       "      <td>8:20 AM</td>\n",
       "    </tr>\n",
       "    <tr>\n",
       "      <th>1</th>\n",
       "      <td>8:45 AM</td>\n",
       "      <td>8:20 AM</td>\n",
       "      <td>8:05 AM</td>\n",
       "      <td>8:00 AM</td>\n",
       "      <td>8:05 AM</td>\n",
       "      <td>8:00 AM</td>\n",
       "    </tr>\n",
       "    <tr>\n",
       "      <th>2</th>\n",
       "      <td>8:40 AM</td>\n",
       "      <td>8:40 AM</td>\n",
       "      <td>8:40 AM</td>\n",
       "      <td>8:25 AM</td>\n",
       "      <td>8:40 AM</td>\n",
       "      <td>8:40 AM</td>\n",
       "    </tr>\n",
       "    <tr>\n",
       "      <th>3</th>\n",
       "      <td>8:55 AM</td>\n",
       "      <td>8:50 AM</td>\n",
       "      <td>8:55 AM</td>\n",
       "      <td>8:10 AM</td>\n",
       "      <td>8:15 AM</td>\n",
       "      <td>8:05 AM</td>\n",
       "    </tr>\n",
       "    <tr>\n",
       "      <th>4</th>\n",
       "      <td>8:45 AM</td>\n",
       "      <td>8:45 AM</td>\n",
       "      <td>8:45 AM</td>\n",
       "      <td>8:40 AM</td>\n",
       "      <td>8:30 AM</td>\n",
       "      <td>8:40 AM</td>\n",
       "    </tr>\n",
       "  </tbody>\n",
       "</table>\n",
       "</div>"
      ],
      "text/plain": [
       "   8:56 AM  9:00 AM  7:45 AM 7:45 AM.1  8:05 AM 7:45 AM.2\n",
       "0  8:40 AM  8:40 AM  8:30 AM   8:30 AM  8:45 AM   8:20 AM\n",
       "1  8:45 AM  8:20 AM  8:05 AM   8:00 AM  8:05 AM   8:00 AM\n",
       "2  8:40 AM  8:40 AM  8:40 AM   8:25 AM  8:40 AM   8:40 AM\n",
       "3  8:55 AM  8:50 AM  8:55 AM   8:10 AM  8:15 AM   8:05 AM\n",
       "4  8:45 AM  8:45 AM  8:45 AM   8:40 AM  8:30 AM   8:40 AM"
      ]
     },
     "execution_count": 156,
     "metadata": {},
     "output_type": "execute_result"
    }
   ],
   "source": [
    "arrival_df.head()"
   ]
  },
  {
   "cell_type": "markdown",
   "metadata": {},
   "source": [
    "I can see two corrections that I need to make:\n",
    "1. I need to set a header row for my data so I do not lose the inital row. To not just replace that row, I am going to reload the dataframe with a given set of column names.\n",
    "2. I will have to reshape it in some way to look at the time values. My plan is to then take my dataframe and convert it into one Series with a simple list comprehension."
   ]
  },
  {
   "cell_type": "code",
   "execution_count": 157,
   "metadata": {},
   "outputs": [
    {
     "data": {
      "text/html": [
       "<div>\n",
       "<style scoped>\n",
       "    .dataframe tbody tr th:only-of-type {\n",
       "        vertical-align: middle;\n",
       "    }\n",
       "\n",
       "    .dataframe tbody tr th {\n",
       "        vertical-align: top;\n",
       "    }\n",
       "\n",
       "    .dataframe thead th {\n",
       "        text-align: right;\n",
       "    }\n",
       "</style>\n",
       "<table border=\"1\" class=\"dataframe\">\n",
       "  <thead>\n",
       "    <tr style=\"text-align: right;\">\n",
       "      <th></th>\n",
       "      <th>Mon-1</th>\n",
       "      <th>Tues-1</th>\n",
       "      <th>Weds-1</th>\n",
       "      <th>Thurs-1</th>\n",
       "      <th>Fri-1</th>\n",
       "      <th>Mon-2</th>\n",
       "    </tr>\n",
       "  </thead>\n",
       "  <tbody>\n",
       "    <tr>\n",
       "      <th>0</th>\n",
       "      <td>8:56 AM</td>\n",
       "      <td>9:00 AM</td>\n",
       "      <td>7:45 AM</td>\n",
       "      <td>7:45 AM</td>\n",
       "      <td>8:05 AM</td>\n",
       "      <td>7:45 AM</td>\n",
       "    </tr>\n",
       "    <tr>\n",
       "      <th>1</th>\n",
       "      <td>8:40 AM</td>\n",
       "      <td>8:40 AM</td>\n",
       "      <td>8:30 AM</td>\n",
       "      <td>8:30 AM</td>\n",
       "      <td>8:45 AM</td>\n",
       "      <td>8:20 AM</td>\n",
       "    </tr>\n",
       "    <tr>\n",
       "      <th>2</th>\n",
       "      <td>8:45 AM</td>\n",
       "      <td>8:20 AM</td>\n",
       "      <td>8:05 AM</td>\n",
       "      <td>8:00 AM</td>\n",
       "      <td>8:05 AM</td>\n",
       "      <td>8:00 AM</td>\n",
       "    </tr>\n",
       "    <tr>\n",
       "      <th>3</th>\n",
       "      <td>8:40 AM</td>\n",
       "      <td>8:40 AM</td>\n",
       "      <td>8:40 AM</td>\n",
       "      <td>8:25 AM</td>\n",
       "      <td>8:40 AM</td>\n",
       "      <td>8:40 AM</td>\n",
       "    </tr>\n",
       "    <tr>\n",
       "      <th>4</th>\n",
       "      <td>8:55 AM</td>\n",
       "      <td>8:50 AM</td>\n",
       "      <td>8:55 AM</td>\n",
       "      <td>8:10 AM</td>\n",
       "      <td>8:15 AM</td>\n",
       "      <td>8:05 AM</td>\n",
       "    </tr>\n",
       "  </tbody>\n",
       "</table>\n",
       "</div>"
      ],
      "text/plain": [
       "     Mon-1   Tues-1   Weds-1  Thurs-1    Fri-1    Mon-2\n",
       "0  8:56 AM  9:00 AM  7:45 AM  7:45 AM  8:05 AM  7:45 AM\n",
       "1  8:40 AM  8:40 AM  8:30 AM  8:30 AM  8:45 AM  8:20 AM\n",
       "2  8:45 AM  8:20 AM  8:05 AM  8:00 AM  8:05 AM  8:00 AM\n",
       "3  8:40 AM  8:40 AM  8:40 AM  8:25 AM  8:40 AM  8:40 AM\n",
       "4  8:55 AM  8:50 AM  8:55 AM  8:10 AM  8:15 AM  8:05 AM"
      ]
     },
     "execution_count": 157,
     "metadata": {},
     "output_type": "execute_result"
    }
   ],
   "source": [
    "column_names =['Mon-1', 'Tues-1', 'Weds-1','Thurs-1','Fri-1', 'Mon-2']\n",
    "arrival_df = pd.read_csv('data.csv', names=column_names)\n",
    "arrival_df.head()"
   ]
  },
  {
   "cell_type": "code",
   "execution_count": 158,
   "metadata": {},
   "outputs": [
    {
     "data": {
      "text/plain": [
       "0    8:56 AM\n",
       "1    8:40 AM\n",
       "2    8:45 AM\n",
       "3    8:40 AM\n",
       "4    8:55 AM\n",
       "dtype: object"
      ]
     },
     "execution_count": 158,
     "metadata": {},
     "output_type": "execute_result"
    }
   ],
   "source": [
    "# Concatentating the rows into one column\n",
    "arrival_series = pd.concat([arrival_df[i] for i in arrival_df.columns])\n",
    "\n",
    "arrival_series.head()"
   ]
  },
  {
   "cell_type": "markdown",
   "metadata": {},
   "source": [
    "Yay! Much easier to play with now. Now, I am going to convert my Series into datetime objects"
   ]
  },
  {
   "cell_type": "code",
   "execution_count": 159,
   "metadata": {},
   "outputs": [],
   "source": [
    "# schedule_single_df = pd.to_datetime(schedule_single_df)"
   ]
  },
  {
   "cell_type": "markdown",
   "metadata": {},
   "source": [
    "By running the cell above, I realized there is a value of 'absent' for one day, messing up my time conversion. To correct, I am going to drop that row to make the rest of my data workable. I have mapped a function to find the value, replace it with a NaN value, then drop the NaN value."
   ]
  },
  {
   "cell_type": "code",
   "execution_count": 160,
   "metadata": {},
   "outputs": [],
   "source": [
    "# Changing 'absent' to NaN\n",
    "arrival_series = arrival_series.map(lambda x: np.NaN if x == 'absent' else x)\n",
    "\n",
    "# Dropping the NaN value row\n",
    "arrival_series.dropna(inplace=True)\n"
   ]
  },
  {
   "cell_type": "code",
   "execution_count": 170,
   "metadata": {},
   "outputs": [
    {
     "data": {
      "text/plain": [
       "0    08:56\n",
       "1    08:40\n",
       "2    08:45\n",
       "3    08:40\n",
       "4    08:55\n",
       "dtype: object"
      ]
     },
     "execution_count": 170,
     "metadata": {},
     "output_type": "execute_result"
    }
   ],
   "source": [
    "# Converting all the values to datetime objects\n",
    "arrival_series = arrival_series.apply(lambda x: pd.Timestamp(x)).dt.strftime('%H:%M')\n",
    "\n",
    "arrival_series.head()"
   ]
  },
  {
   "cell_type": "code",
   "execution_count": 214,
   "metadata": {},
   "outputs": [],
   "source": [
    "arrival_count = arrival_series.value_counts().sort_index()"
   ]
  },
  {
   "cell_type": "code",
   "execution_count": 216,
   "metadata": {},
   "outputs": [
    {
     "data": {
      "image/png": "[encoded data removed]",
      "text/plain": [
       "<Figure size 720x576 with 1 Axes>"
      ]
     },
     "metadata": {},
     "output_type": "display_data"
    }
   ],
   "source": [
    "plt.style.use('seaborn')\n",
    "fig, ax = plt.subplots(figsize=(10,8))\n",
    "num_bins = 20\n",
    "\n",
    "ax.hist(arrival_count.values, num_bins, align='mid',rwidth=.85)\n",
    "ax.set_title(\"Student attendance times for first 6 days\")\n",
    "ax.set_xlabel(\"Time\")\n",
    "ax.vlines(arrival_count.values.mean(), 1, 1)\n",
    "ax.set_ylabel(\"Count\")\n",
    "ax.set_xticklabels(arrival_count.index)\n",
    "plt.show()"
   ]
  },
  {
   "cell_type": "code",
   "execution_count": null,
   "metadata": {},
   "outputs": [],
   "source": []
  }
 ],
 "metadata": {
  "kernelspec": {
   "display_name": "Python 3",
   "language": "python",
   "name": "python3"
  },
  "language_info": {
   "codemirror_mode": {
    "name": "ipython",
    "version": 3
   },
   "file_extension": ".py",
   "mimetype": "text/x-python",
   "name": "python",
   "nbconvert_exporter": "python",
   "pygments_lexer": "ipython3",
   "version": "3.6.6"
  }
 },
 "nbformat": 4,
 "nbformat_minor": 2
}
